{
 "cells": [
  {
   "cell_type": "markdown",
   "id": "75ed81e9",
   "metadata": {},
   "source": [
    "# Week 1. APIs"
   ]
  },
  {
   "cell_type": "markdown",
   "id": "0cdec622",
   "metadata": {},
   "source": [
    "## Today's objectives\n",
    "\n",
    "1. Understand different ways to access data via an API\n",
    "2. Introduce the `requests` library \n",
    "3. Learn how to parse JSON data\n",
    "4. Pratice with `pandas`, `geopandas`, and plotting\n"
   ]
  },
  {
   "cell_type": "markdown",
   "id": "15f3b16e",
   "metadata": {},
   "source": [
    "One way to get data is to download it manually from a website. You might click through a series of links and then save a `.csv` or similar file to your hard drive.\n",
    "\n",
    "Another way is through an Application Programming Interface (API). These APIs make it possible to request just the data that you are interested in. Sometimes, this data is static—it will be the same each time you request it. The U.S. Census is a good example. Other APIs are dynamic—for example, bus arrival times."
   ]
  },
  {
   "cell_type": "markdown",
   "id": "a8f62863",
   "metadata": {},
   "source": [
    "## Example: Los Angeles Metro\n",
    "Many APIs return a format known as JSON. While it seems complicated, it's relatively easy to work with because it's highly structured.\n",
    "\n",
    "Metro provides its [API documentation here](https://developer.metro.net/api/). Click through the examples at the end and see what the result looks like.\n",
    "\n",
    "How do we get this into Python? The `requests` library is the key to unlocking many interactions with the web."
   ]
  },
  {
   "cell_type": "code",
   "execution_count": 1,
   "id": "e7f0a3bd",
   "metadata": {},
   "outputs": [],
   "source": [
    "import requests\n",
    "r = requests.get('https://api.metro.net/agencies/lametro/stops/10988/predictions/')"
   ]
  },
  {
   "cell_type": "markdown",
   "id": "b60a0871",
   "metadata": {},
   "source": [
    "Here, we've made a request to the Metro API, and stored the response in the `r` object. Stop ID 10988 is outside the Public Affairs Building. ([I looked that up on Google Maps.](https://goo.gl/maps/Y4wyVriw1AhyDtxB6))\n",
    "\n",
    "Let's see what the `r` object includes. Use `r.` and the `tab` autocomplete in Jupyter Notebook."
   ]
  },
  {
   "cell_type": "code",
   "execution_count": 2,
   "id": "4a7bd9b7",
   "metadata": {},
   "outputs": [
    {
     "name": "stdout",
     "output_type": "stream",
     "text": [
      "True\n"
     ]
    }
   ],
   "source": [
    "# this line is specific to my Python environment, so you can ignore it\n",
    "%config Completer.use_jedi = False\n",
    "\n",
    "print(r.ok)"
   ]
  },
  {
   "cell_type": "code",
   "execution_count": 3,
   "id": "ba7f323f",
   "metadata": {},
   "outputs": [
    {
     "name": "stdout",
     "output_type": "stream",
     "text": [
      "{\"items\": [{\"route_id\": \"2\", \"block_id\": \"0025300\", \"run_id\": \"2_1057_1\", \"is_departing\": false, \"minutes\": 0.0, \"seconds\": 35.0, \"trip_id\": \"52266689\"}, {\"route_id\": \"2\", \"block_id\": \"0020500\", \"run_id\": \"2_1057_1\", \"is_departing\": false, \"minutes\": 8.0, \"seconds\": 491.0, \"trip_id\": \"52266752\"}, {\"route_id\": \"2\", \"block_id\": \"0025100\", \"run_id\": \"2_1057_1\", \"is_departing\": false, \"minutes\": 22.0, \"seconds\": 1345.0, \"trip_id\": \"52266764\"}, {\"route_id\": \"2\", \"block_id\": \"0020600\", \"run_id\": \"2_1057_1\", \"is_departing\": false, \"minutes\": 41.0, \"seconds\": 2478.0, \"trip_id\": \"52266718\"}, {\"route_id\": \"2\", \"block_id\": \"0025602\", \"run_id\": \"2_1057_1\", \"is_departing\": false, \"minutes\": 52.0, \"seconds\": 3126.0, \"trip_id\": \"52266697\"}]}\n",
      "\n"
     ]
    }
   ],
   "source": [
    "# This should give you the same information as if you used a web browser to go to the same link\n",
    "print(r.text)"
   ]
  },
  {
   "cell_type": "markdown",
   "id": "acddffa1",
   "metadata": {},
   "source": [
    "So how can we get this into a more usable form? The `json` module is the key. It's built-in to Python so you don't have to install anything."
   ]
  },
  {
   "cell_type": "code",
   "execution_count": 4,
   "id": "01a60bde",
   "metadata": {},
   "outputs": [],
   "source": [
    "import json"
   ]
  },
  {
   "cell_type": "code",
   "execution_count": 5,
   "id": "3a2580fb",
   "metadata": {},
   "outputs": [
    {
     "name": "stdout",
     "output_type": "stream",
     "text": [
      "<class 'dict'>\n"
     ]
    }
   ],
   "source": [
    "# json.loads() will turn the JSON object into a dictionary\n",
    "d = json.loads(r.text)\n",
    "print(type(d))"
   ]
  },
  {
   "cell_type": "code",
   "execution_count": 6,
   "id": "4e8376c7",
   "metadata": {},
   "outputs": [
    {
     "name": "stdout",
     "output_type": "stream",
     "text": [
      "dict_keys(['items'])\n",
      "[{'route_id': '2', 'block_id': '0025300', 'run_id': '2_1057_1', 'is_departing': False, 'minutes': 0.0, 'seconds': 35.0, 'trip_id': '52266689'}, {'route_id': '2', 'block_id': '0020500', 'run_id': '2_1057_1', 'is_departing': False, 'minutes': 8.0, 'seconds': 491.0, 'trip_id': '52266752'}, {'route_id': '2', 'block_id': '0025100', 'run_id': '2_1057_1', 'is_departing': False, 'minutes': 22.0, 'seconds': 1345.0, 'trip_id': '52266764'}, {'route_id': '2', 'block_id': '0020600', 'run_id': '2_1057_1', 'is_departing': False, 'minutes': 41.0, 'seconds': 2478.0, 'trip_id': '52266718'}, {'route_id': '2', 'block_id': '0025602', 'run_id': '2_1057_1', 'is_departing': False, 'minutes': 52.0, 'seconds': 3126.0, 'trip_id': '52266697'}]\n"
     ]
    }
   ],
   "source": [
    "# remember, a dictionary is a collection of keys and values\n",
    "# here looks like there is one key, called items\n",
    "print(d.keys())\n",
    "print(d['items'])"
   ]
  },
  {
   "cell_type": "code",
   "execution_count": 7,
   "id": "68c72f08",
   "metadata": {},
   "outputs": [
    {
     "name": "stdout",
     "output_type": "stream",
     "text": [
      "<class 'list'>\n",
      "{'route_id': '2', 'block_id': '0025300', 'run_id': '2_1057_1', 'is_departing': False, 'minutes': 0.0, 'seconds': 35.0, 'trip_id': '52266689'}\n"
     ]
    }
   ],
   "source": [
    "# and in turn, 'items' is a list. You could also have seen this because of the square brackets [ ]  \n",
    "print(type(d['items']))\n",
    "\n",
    "# let's look at the first element of the list\n",
    "item1 = d['items'][0]  \n",
    "print(item1)"
   ]
  },
  {
   "cell_type": "markdown",
   "id": "33c9a2c0",
   "metadata": {},
   "source": [
    "It's another dictionary!\n",
    "\n",
    "Question: How would you print the route number and arrival time for this bus?\n",
    "What about all the buses shortly arriving at this stop?"
   ]
  },
  {
   "cell_type": "code",
   "execution_count": 8,
   "id": "ba97549e",
   "metadata": {},
   "outputs": [
    {
     "name": "stdout",
     "output_type": "stream",
     "text": [
      "Route 2 is arriving in 0.0 minutes\n"
     ]
    }
   ],
   "source": [
    "# Here, we use the .format() method for a string. We insert the items in the .format() part into the curly braces {}\n",
    "print('Route {} is arriving in {} minutes'.format(item1['route_id'], item1['minutes']))\n",
    "\n",
    "# Run all the cells again and watch the arrival times change"
   ]
  },
  {
   "cell_type": "code",
   "execution_count": 9,
   "id": "01bbce8a",
   "metadata": {},
   "outputs": [
    {
     "name": "stdout",
     "output_type": "stream",
     "text": [
      "Route 2 is arriving in 0 minutes\n",
      "Route 2 is arriving in 14 minutes\n",
      "Route 2 is arriving in 32 minutes\n",
      "Route 2 is arriving in 49 minutes\n",
      "Route 2 is arriving in 61 minutes\n"
     ]
    }
   ],
   "source": [
    "for bus in d['items']:\n",
    "    print('Route {} is arriving in {:.0f} minutes'.format(bus['route_id'], bus['minutes']))"
   ]
  },
  {
   "cell_type": "code",
   "execution_count": 11,
   "id": "1cea9bd2",
   "metadata": {},
   "outputs": [
    {
     "data": {
      "text/html": [
       "<div>\n",
       "<style scoped>\n",
       "    .dataframe tbody tr th:only-of-type {\n",
       "        vertical-align: middle;\n",
       "    }\n",
       "\n",
       "    .dataframe tbody tr th {\n",
       "        vertical-align: top;\n",
       "    }\n",
       "\n",
       "    .dataframe thead th {\n",
       "        text-align: right;\n",
       "    }\n",
       "</style>\n",
       "<table border=\"1\" class=\"dataframe\">\n",
       "  <thead>\n",
       "    <tr style=\"text-align: right;\">\n",
       "      <th></th>\n",
       "      <th>route_id</th>\n",
       "      <th>block_id</th>\n",
       "      <th>run_id</th>\n",
       "      <th>is_departing</th>\n",
       "      <th>minutes</th>\n",
       "      <th>seconds</th>\n",
       "      <th>trip_id</th>\n",
       "    </tr>\n",
       "  </thead>\n",
       "  <tbody>\n",
       "    <tr>\n",
       "      <th>0</th>\n",
       "      <td>2</td>\n",
       "      <td>0025300</td>\n",
       "      <td>2_1057_1</td>\n",
       "      <td>False</td>\n",
       "      <td>0.0</td>\n",
       "      <td>35.0</td>\n",
       "      <td>52266689</td>\n",
       "    </tr>\n",
       "    <tr>\n",
       "      <th>1</th>\n",
       "      <td>2</td>\n",
       "      <td>0020500</td>\n",
       "      <td>2_1057_1</td>\n",
       "      <td>False</td>\n",
       "      <td>8.0</td>\n",
       "      <td>491.0</td>\n",
       "      <td>52266752</td>\n",
       "    </tr>\n",
       "    <tr>\n",
       "      <th>2</th>\n",
       "      <td>2</td>\n",
       "      <td>0025100</td>\n",
       "      <td>2_1057_1</td>\n",
       "      <td>False</td>\n",
       "      <td>22.0</td>\n",
       "      <td>1345.0</td>\n",
       "      <td>52266764</td>\n",
       "    </tr>\n",
       "    <tr>\n",
       "      <th>3</th>\n",
       "      <td>2</td>\n",
       "      <td>0020600</td>\n",
       "      <td>2_1057_1</td>\n",
       "      <td>False</td>\n",
       "      <td>41.0</td>\n",
       "      <td>2478.0</td>\n",
       "      <td>52266718</td>\n",
       "    </tr>\n",
       "    <tr>\n",
       "      <th>4</th>\n",
       "      <td>2</td>\n",
       "      <td>0025602</td>\n",
       "      <td>2_1057_1</td>\n",
       "      <td>False</td>\n",
       "      <td>52.0</td>\n",
       "      <td>3126.0</td>\n",
       "      <td>52266697</td>\n",
       "    </tr>\n",
       "  </tbody>\n",
       "</table>\n",
       "</div>"
      ],
      "text/plain": [
       "  route_id block_id    run_id  is_departing  minutes  seconds   trip_id\n",
       "0        2  0025300  2_1057_1         False      0.0     35.0  52266689\n",
       "1        2  0020500  2_1057_1         False      8.0    491.0  52266752\n",
       "2        2  0025100  2_1057_1         False     22.0   1345.0  52266764\n",
       "3        2  0020600  2_1057_1         False     41.0   2478.0  52266718\n",
       "4        2  0025602  2_1057_1         False     52.0   3126.0  52266697"
      ]
     },
     "execution_count": 11,
     "metadata": {},
     "output_type": "execute_result"
    }
   ],
   "source": [
    "# To make this easier to work with, we can convert to a pandas DataFrame\n",
    "# pandas understands lists of dictionaries\n",
    "\n",
    "import pandas as pd\n",
    "df = pd.DataFrame(d['items'])\n",
    "df"
   ]
  },
  {
   "cell_type": "code",
   "execution_count": 12,
   "id": "7a9a8c85",
   "metadata": {},
   "outputs": [
    {
     "data": {
      "text/plain": [
       "4    10.4\n",
       "Name: minutes, dtype: float64"
      ]
     },
     "execution_count": 12,
     "metadata": {},
     "output_type": "execute_result"
    }
   ],
   "source": [
    "df.tail(1)['minutes'] / len(df)"
   ]
  },
  {
   "cell_type": "markdown",
   "id": "cfe09cb2",
   "metadata": {},
   "source": [
    "<div class=\"alert alert-block alert-info\">\n",
    "<strong>Exercise:</strong> How would you calculate the mean headway (time between buses)?</div>"
   ]
  },
  {
   "cell_type": "markdown",
   "id": "3e1c10f2",
   "metadata": {},
   "source": [
    "Now, let's generalize. The API above takes a string of a particular form. So we can write a function that gets the times for any bus stop. All we are doing here is taking the code above, putting it into a function, and making the stop id an argument to that function."
   ]
  },
  {
   "cell_type": "code",
   "execution_count": 13,
   "id": "ee95cc6e",
   "metadata": {},
   "outputs": [
    {
     "name": "stdout",
     "output_type": "stream",
     "text": [
      "https://api.metro.net/agencies/lametro/stops/10988/predictions/\n"
     ]
    },
    {
     "data": {
      "text/html": [
       "<div>\n",
       "<style scoped>\n",
       "    .dataframe tbody tr th:only-of-type {\n",
       "        vertical-align: middle;\n",
       "    }\n",
       "\n",
       "    .dataframe tbody tr th {\n",
       "        vertical-align: top;\n",
       "    }\n",
       "\n",
       "    .dataframe thead th {\n",
       "        text-align: right;\n",
       "    }\n",
       "</style>\n",
       "<table border=\"1\" class=\"dataframe\">\n",
       "  <thead>\n",
       "    <tr style=\"text-align: right;\">\n",
       "      <th></th>\n",
       "      <th>block_id</th>\n",
       "      <th>route_id</th>\n",
       "      <th>run_id</th>\n",
       "      <th>is_departing</th>\n",
       "      <th>minutes</th>\n",
       "      <th>seconds</th>\n",
       "      <th>trip_id</th>\n",
       "    </tr>\n",
       "  </thead>\n",
       "  <tbody>\n",
       "    <tr>\n",
       "      <th>0</th>\n",
       "      <td>0025100</td>\n",
       "      <td>2</td>\n",
       "      <td>2_1057_1</td>\n",
       "      <td>False</td>\n",
       "      <td>10.0</td>\n",
       "      <td>618.0</td>\n",
       "      <td>52266764</td>\n",
       "    </tr>\n",
       "    <tr>\n",
       "      <th>1</th>\n",
       "      <td>0020600</td>\n",
       "      <td>2</td>\n",
       "      <td>2_1057_1</td>\n",
       "      <td>False</td>\n",
       "      <td>27.0</td>\n",
       "      <td>1665.0</td>\n",
       "      <td>52266718</td>\n",
       "    </tr>\n",
       "    <tr>\n",
       "      <th>2</th>\n",
       "      <td>0025602</td>\n",
       "      <td>2</td>\n",
       "      <td>2_1057_1</td>\n",
       "      <td>False</td>\n",
       "      <td>41.0</td>\n",
       "      <td>2505.0</td>\n",
       "      <td>52266697</td>\n",
       "    </tr>\n",
       "    <tr>\n",
       "      <th>3</th>\n",
       "      <td>0025200</td>\n",
       "      <td>2</td>\n",
       "      <td>2_1057_1</td>\n",
       "      <td>False</td>\n",
       "      <td>61.0</td>\n",
       "      <td>3660.0</td>\n",
       "      <td>52266743</td>\n",
       "    </tr>\n",
       "    <tr>\n",
       "      <th>4</th>\n",
       "      <td>0020100</td>\n",
       "      <td>2</td>\n",
       "      <td>2_1057_1</td>\n",
       "      <td>False</td>\n",
       "      <td>67.0</td>\n",
       "      <td>4066.0</td>\n",
       "      <td>52266694</td>\n",
       "    </tr>\n",
       "  </tbody>\n",
       "</table>\n",
       "</div>"
      ],
      "text/plain": [
       "  block_id route_id    run_id  is_departing  minutes  seconds   trip_id\n",
       "0  0025100        2  2_1057_1         False     10.0    618.0  52266764\n",
       "1  0020600        2  2_1057_1         False     27.0   1665.0  52266718\n",
       "2  0025602        2  2_1057_1         False     41.0   2505.0  52266697\n",
       "3  0025200        2  2_1057_1         False     61.0   3660.0  52266743\n",
       "4  0020100        2  2_1057_1         False     67.0   4066.0  52266694"
      ]
     },
     "execution_count": 13,
     "metadata": {},
     "output_type": "execute_result"
    }
   ],
   "source": [
    "def getArrivalTimes(stopId):\n",
    "    \"\"\"Returns a dataframe of arrival times for a given stop id\"\"\"\n",
    "    # Note the use of the format here to insert the id into the string\n",
    "    url = 'https://api.metro.net/agencies/lametro/stops/{}/predictions/'.format(stopId)\n",
    "    print(url)\n",
    "    r = requests.get(url)\n",
    "    d = json.loads(r.text)\n",
    "    df = pd.DataFrame(d['items'])\n",
    "    return df\n",
    "\n",
    "getArrivalTimes(10988)"
   ]
  },
  {
   "cell_type": "markdown",
   "id": "6ee87d2c",
   "metadata": {},
   "source": [
    "<div class=\"alert alert-block alert-info\">\n",
    "<strong>Exercise:</strong> Explore some of Metro's other API collections at the same link above\n",
    "</div>"
   ]
  },
  {
   "cell_type": "markdown",
   "id": "361615ad",
   "metadata": {},
   "source": [
    "## Example: US Census\n",
    "Traditionally, if you wanted census data, you had to download .csv or other files and decipher them. Recently, the census has introduced an API. [See the documentation here](https://www.census.gov/data/developers/guidance/api-user-guide.Example_API_Queries.html).\n",
    "\n",
    "If you request more than 500 queries a day, you'll need to register for a (free) [API key](https://www.census.gov/data/developers/guidance/api-user-guide.Help_&_Contact_Us.html) from the Census Bureau.\n",
    "\n",
    "Let's download population by county from the 2019 American Community Survey one-year estimates. We see from the documentation that the API call takes the following form:\n",
    "\n",
    "`https://api.census.gov/data/YEAR/acs/DATASET/?get=TABLENAME&for=GEOGRAPHY`\n",
    "\n",
    "So getting the population (table `B00001_001E`) for all counties is:\n",
    "\n",
    "`https://api.census.gov/data/2014/acs/acs5/?get=B00001_001E&for=county`\n",
    "\n",
    "Try this in your browser.\n",
    "\n",
    "Now let's get it into Python."
   ]
  },
  {
   "cell_type": "code",
   "execution_count": 1,
   "id": "92a1ed04",
   "metadata": {},
   "outputs": [
    {
     "data": {
      "text/plain": [
       "str"
      ]
     },
     "execution_count": 1,
     "metadata": {},
     "output_type": "execute_result"
    }
   ],
   "source": [
    "import requests\n",
    "r = requests.get('https://api.census.gov/data/2014/acs/acs5/?get=B00001_001E&for=county')\n",
    "type(r.text)\n",
    "# This time, it looks like the data come in a string"
   ]
  },
  {
   "cell_type": "code",
   "execution_count": 2,
   "id": "6f0c0acc",
   "metadata": {},
   "outputs": [
    {
     "data": {
      "text/plain": [
       "list"
      ]
     },
     "execution_count": 2,
     "metadata": {},
     "output_type": "execute_result"
    }
   ],
   "source": [
    "# But turns out that it's actually a non-standard JSON.\n",
    "censusdata = r.json()\n",
    "type(censusdata)"
   ]
  },
  {
   "cell_type": "code",
   "execution_count": 3,
   "id": "bf906674",
   "metadata": {},
   "outputs": [
    {
     "data": {
      "text/plain": [
       "[['B00001_001E', 'state', 'county'],\n",
       " ['139', '31', '117'],\n",
       " ['1583', '31', '033'],\n",
       " ['2880', '31', '047'],\n",
       " ['384', '31', '071']]"
      ]
     },
     "execution_count": 3,
     "metadata": {},
     "output_type": "execute_result"
    }
   ],
   "source": [
    "# In fact, it's a list of lists. The first sublist is the column headers\n",
    "censusdata[:5] # show the first five rows"
   ]
  },
  {
   "cell_type": "code",
   "execution_count": 4,
   "id": "71a229dd",
   "metadata": {},
   "outputs": [
    {
     "data": {
      "text/html": [
       "<div>\n",
       "<style scoped>\n",
       "    .dataframe tbody tr th:only-of-type {\n",
       "        vertical-align: middle;\n",
       "    }\n",
       "\n",
       "    .dataframe tbody tr th {\n",
       "        vertical-align: top;\n",
       "    }\n",
       "\n",
       "    .dataframe thead th {\n",
       "        text-align: right;\n",
       "    }\n",
       "</style>\n",
       "<table border=\"1\" class=\"dataframe\">\n",
       "  <thead>\n",
       "    <tr style=\"text-align: right;\">\n",
       "      <th></th>\n",
       "      <th>B00001_001E</th>\n",
       "      <th>state</th>\n",
       "      <th>county</th>\n",
       "    </tr>\n",
       "  </thead>\n",
       "  <tbody>\n",
       "    <tr>\n",
       "      <th>0</th>\n",
       "      <td>139</td>\n",
       "      <td>31</td>\n",
       "      <td>117</td>\n",
       "    </tr>\n",
       "    <tr>\n",
       "      <th>1</th>\n",
       "      <td>1583</td>\n",
       "      <td>31</td>\n",
       "      <td>033</td>\n",
       "    </tr>\n",
       "    <tr>\n",
       "      <th>2</th>\n",
       "      <td>2880</td>\n",
       "      <td>31</td>\n",
       "      <td>047</td>\n",
       "    </tr>\n",
       "    <tr>\n",
       "      <th>3</th>\n",
       "      <td>384</td>\n",
       "      <td>31</td>\n",
       "      <td>071</td>\n",
       "    </tr>\n",
       "    <tr>\n",
       "      <th>4</th>\n",
       "      <td>830</td>\n",
       "      <td>31</td>\n",
       "      <td>125</td>\n",
       "    </tr>\n",
       "    <tr>\n",
       "      <th>...</th>\n",
       "      <td>...</td>\n",
       "      <td>...</td>\n",
       "      <td>...</td>\n",
       "    </tr>\n",
       "    <tr>\n",
       "      <th>3215</th>\n",
       "      <td>2293</td>\n",
       "      <td>28</td>\n",
       "      <td>029</td>\n",
       "    </tr>\n",
       "    <tr>\n",
       "      <th>3216</th>\n",
       "      <td>17029</td>\n",
       "      <td>28</td>\n",
       "      <td>049</td>\n",
       "    </tr>\n",
       "    <tr>\n",
       "      <th>3217</th>\n",
       "      <td>2145</td>\n",
       "      <td>28</td>\n",
       "      <td>145</td>\n",
       "    </tr>\n",
       "    <tr>\n",
       "      <th>3218</th>\n",
       "      <td>1789</td>\n",
       "      <td>28</td>\n",
       "      <td>139</td>\n",
       "    </tr>\n",
       "    <tr>\n",
       "      <th>3219</th>\n",
       "      <td>4892</td>\n",
       "      <td>28</td>\n",
       "      <td>035</td>\n",
       "    </tr>\n",
       "  </tbody>\n",
       "</table>\n",
       "<p>3220 rows × 3 columns</p>\n",
       "</div>"
      ],
      "text/plain": [
       "     B00001_001E state county\n",
       "0            139    31    117\n",
       "1           1583    31    033\n",
       "2           2880    31    047\n",
       "3            384    31    071\n",
       "4            830    31    125\n",
       "...          ...   ...    ...\n",
       "3215        2293    28    029\n",
       "3216       17029    28    049\n",
       "3217        2145    28    145\n",
       "3218        1789    28    139\n",
       "3219        4892    28    035\n",
       "\n",
       "[3220 rows x 3 columns]"
      ]
     },
     "execution_count": 4,
     "metadata": {},
     "output_type": "execute_result"
    }
   ],
   "source": [
    "import pandas as pd\n",
    "# So we can also convert this to a pandas dataframe, if we use the first list as the column names\n",
    "# Note that the state and county are shown by their FIPS codes\n",
    "pd.DataFrame(censusdata[1:], columns=censusdata[0])"
   ]
  },
  {
   "cell_type": "markdown",
   "id": "ea4059ec",
   "metadata": {},
   "source": [
    "<div class=\"alert alert-block alert-info\">\n",
    "<strong>Exercise:</strong> Can you write a function that retrieves the population for a given year and geography type?\n",
    "</div>"
   ]
  },
  {
   "cell_type": "markdown",
   "id": "5866f97f",
   "metadata": {},
   "source": [
    "### Using cenpy\n",
    "It turns out that there is an easier way to get the census data. Rather than using the Census API, we can call it through the `cenpy` package."
   ]
  },
  {
   "cell_type": "code",
   "execution_count": 5,
   "id": "c13719ee",
   "metadata": {},
   "outputs": [],
   "source": [
    "import cenpy\n",
    "from cenpy import products\n",
    "import matplotlib.pyplot as plt\n",
    "# this makes sure that plots appear in the same window\n",
    "%matplotlib inline  \n",
    "\n",
    "# create a connection to the American Community Survey\n",
    "acs = cenpy.products.ACS()"
   ]
  },
  {
   "cell_type": "code",
   "execution_count": 6,
   "id": "b5e28b88",
   "metadata": {},
   "outputs": [],
   "source": [
    "# what tables are available?\n",
    "acs.tables?"
   ]
  },
  {
   "cell_type": "code",
   "execution_count": null,
   "id": "a6dbbd82",
   "metadata": {},
   "outputs": [],
   "source": []
  },
  {
   "cell_type": "code",
   "execution_count": 7,
   "id": "24068541",
   "metadata": {},
   "outputs": [
    {
     "data": {
      "text/html": [
       "<div>\n",
       "<style scoped>\n",
       "    .dataframe tbody tr th:only-of-type {\n",
       "        vertical-align: middle;\n",
       "    }\n",
       "\n",
       "    .dataframe tbody tr th {\n",
       "        vertical-align: top;\n",
       "    }\n",
       "\n",
       "    .dataframe thead th {\n",
       "        text-align: right;\n",
       "    }\n",
       "</style>\n",
       "<table border=\"1\" class=\"dataframe\">\n",
       "  <thead>\n",
       "    <tr style=\"text-align: right;\">\n",
       "      <th></th>\n",
       "      <th>description</th>\n",
       "      <th>columns</th>\n",
       "    </tr>\n",
       "    <tr>\n",
       "      <th>table_name</th>\n",
       "      <th></th>\n",
       "      <th></th>\n",
       "    </tr>\n",
       "  </thead>\n",
       "  <tbody>\n",
       "    <tr>\n",
       "      <th>B25034</th>\n",
       "      <td>YEAR STRUCTURE BUILT</td>\n",
       "      <td>[B25034_001E, B25034_002E, B25034_003E, B25034...</td>\n",
       "    </tr>\n",
       "    <tr>\n",
       "      <th>B25035</th>\n",
       "      <td>MEDIAN YEAR STRUCTURE BUILT</td>\n",
       "      <td>[B25035_001E]</td>\n",
       "    </tr>\n",
       "    <tr>\n",
       "      <th>B25036</th>\n",
       "      <td>TENURE BY YEAR STRUCTURE BUILT</td>\n",
       "      <td>[B25036_001E, B25036_002E, B25036_003E, B25036...</td>\n",
       "    </tr>\n",
       "    <tr>\n",
       "      <th>B25037</th>\n",
       "      <td>MEDIAN YEAR STRUCTURE BUILT BY TENURE</td>\n",
       "      <td>[B25037_001E, B25037_002E, B25037_003E]</td>\n",
       "    </tr>\n",
       "    <tr>\n",
       "      <th>B25050</th>\n",
       "      <td>PLUMBING FACILITIES BY OCCUPANTS PER ROOM BY Y...</td>\n",
       "      <td>[B25050_001E, B25050_002E, B25050_003E, B25050...</td>\n",
       "    </tr>\n",
       "    <tr>\n",
       "      <th>B25107</th>\n",
       "      <td>MEDIAN VALUE BY YEAR STRUCTURE BUILT</td>\n",
       "      <td>[B25107_001E, B25107_002E, B25107_003E, B25107...</td>\n",
       "    </tr>\n",
       "    <tr>\n",
       "      <th>B25108</th>\n",
       "      <td>AGGREGATE VALUE (DOLLARS) BY YEAR STRUCTURE BUILT</td>\n",
       "      <td>[B25108_001E, B25108_002E, B25108_003E, B25108...</td>\n",
       "    </tr>\n",
       "    <tr>\n",
       "      <th>B25111</th>\n",
       "      <td>MEDIAN GROSS RENT BY YEAR STRUCTURE BUILT</td>\n",
       "      <td>[B25111_001E, B25111_002E, B25111_003E, B25111...</td>\n",
       "    </tr>\n",
       "    <tr>\n",
       "      <th>B25112</th>\n",
       "      <td>AGGREGATE GROSS RENT (DOLLARS) BY YEAR STRUCTU...</td>\n",
       "      <td>[B25112_001E, B25112_002E, B25112_003E, B25112...</td>\n",
       "    </tr>\n",
       "    <tr>\n",
       "      <th>B25126</th>\n",
       "      <td>TENURE BY AGE OF HOUSEHOLDER BY YEAR STRUCTURE...</td>\n",
       "      <td>[B25126_001E, B25126_002E, B25126_003E, B25126...</td>\n",
       "    </tr>\n",
       "    <tr>\n",
       "      <th>B25127</th>\n",
       "      <td>TENURE BY YEAR STRUCTURE BUILT BY UNITS IN STR...</td>\n",
       "      <td>[B25127_001E, B25127_002E, B25127_003E, B25127...</td>\n",
       "    </tr>\n",
       "    <tr>\n",
       "      <th>B99256</th>\n",
       "      <td>ALLOCATION OF YEAR STRUCTURE BUILT</td>\n",
       "      <td>[B99256_001E, B99256_002E, B99256_003E]</td>\n",
       "    </tr>\n",
       "  </tbody>\n",
       "</table>\n",
       "</div>"
      ],
      "text/plain": [
       "                                                  description  \\\n",
       "table_name                                                      \n",
       "B25034                                   YEAR STRUCTURE BUILT   \n",
       "B25035                            MEDIAN YEAR STRUCTURE BUILT   \n",
       "B25036                         TENURE BY YEAR STRUCTURE BUILT   \n",
       "B25037                  MEDIAN YEAR STRUCTURE BUILT BY TENURE   \n",
       "B25050      PLUMBING FACILITIES BY OCCUPANTS PER ROOM BY Y...   \n",
       "B25107                   MEDIAN VALUE BY YEAR STRUCTURE BUILT   \n",
       "B25108      AGGREGATE VALUE (DOLLARS) BY YEAR STRUCTURE BUILT   \n",
       "B25111              MEDIAN GROSS RENT BY YEAR STRUCTURE BUILT   \n",
       "B25112      AGGREGATE GROSS RENT (DOLLARS) BY YEAR STRUCTU...   \n",
       "B25126      TENURE BY AGE OF HOUSEHOLDER BY YEAR STRUCTURE...   \n",
       "B25127      TENURE BY YEAR STRUCTURE BUILT BY UNITS IN STR...   \n",
       "B99256                     ALLOCATION OF YEAR STRUCTURE BUILT   \n",
       "\n",
       "                                                      columns  \n",
       "table_name                                                     \n",
       "B25034      [B25034_001E, B25034_002E, B25034_003E, B25034...  \n",
       "B25035                                          [B25035_001E]  \n",
       "B25036      [B25036_001E, B25036_002E, B25036_003E, B25036...  \n",
       "B25037                [B25037_001E, B25037_002E, B25037_003E]  \n",
       "B25050      [B25050_001E, B25050_002E, B25050_003E, B25050...  \n",
       "B25107      [B25107_001E, B25107_002E, B25107_003E, B25107...  \n",
       "B25108      [B25108_001E, B25108_002E, B25108_003E, B25108...  \n",
       "B25111      [B25111_001E, B25111_002E, B25111_003E, B25111...  \n",
       "B25112      [B25112_001E, B25112_002E, B25112_003E, B25112...  \n",
       "B25126      [B25126_001E, B25126_002E, B25126_003E, B25126...  \n",
       "B25127      [B25127_001E, B25127_002E, B25127_003E, B25127...  \n",
       "B99256                [B99256_001E, B99256_002E, B99256_003E]  "
      ]
     },
     "execution_count": 7,
     "metadata": {},
     "output_type": "execute_result"
    }
   ],
   "source": [
    "# Let's map the age of the housing stock\n",
    "acs.filter_tables('BUILT', by='description')"
   ]
  },
  {
   "cell_type": "code",
   "execution_count": 8,
   "id": "92a13473",
   "metadata": {},
   "outputs": [
    {
     "name": "stderr",
     "output_type": "stream",
     "text": [
      "C:\\Users\\zacha\\anaconda3\\envs\\urbandatascience\\lib\\site-packages\\pyproj\\crs\\crs.py:53: FutureWarning: '+init=<authority>:<code>' syntax is deprecated. '<authority>:<code>' is the preferred initialization method. When making the change, be mindful of axis order changes: https://pyproj4.github.io/pyproj/stable/gotchas.html#axis-order-changes-in-proj-6\n",
      "  return _prepare_from_string(\" \".join(pjargs))\n"
     ]
    }
   ],
   "source": [
    "# it looks like table B25035 and variable B25035_001E are promising, Let's see what is here in Riverside County\n",
    "riverside = products.ACS(2017).from_county('Riverside, CA', level='tract',\n",
    "                                        variables='B25035_001E')"
   ]
  },
  {
   "cell_type": "code",
   "execution_count": 9,
   "id": "3c8178b3",
   "metadata": {},
   "outputs": [
    {
     "data": {
      "text/plain": [
       "geopandas.geodataframe.GeoDataFrame"
      ]
     },
     "execution_count": 9,
     "metadata": {},
     "output_type": "execute_result"
    }
   ],
   "source": [
    "# It looks like cenpy gives us a geopandas dataframe\n",
    "type(riverside)"
   ]
  },
  {
   "cell_type": "code",
   "execution_count": 10,
   "id": "c1999a32",
   "metadata": {},
   "outputs": [
    {
     "data": {
      "text/html": [
       "<div>\n",
       "<style scoped>\n",
       "    .dataframe tbody tr th:only-of-type {\n",
       "        vertical-align: middle;\n",
       "    }\n",
       "\n",
       "    .dataframe tbody tr th {\n",
       "        vertical-align: top;\n",
       "    }\n",
       "\n",
       "    .dataframe thead th {\n",
       "        text-align: right;\n",
       "    }\n",
       "</style>\n",
       "<table border=\"1\" class=\"dataframe\">\n",
       "  <thead>\n",
       "    <tr style=\"text-align: right;\">\n",
       "      <th></th>\n",
       "      <th>GEOID</th>\n",
       "      <th>geometry</th>\n",
       "      <th>B25035_001E</th>\n",
       "      <th>NAME</th>\n",
       "      <th>state</th>\n",
       "      <th>county</th>\n",
       "      <th>tract</th>\n",
       "    </tr>\n",
       "  </thead>\n",
       "  <tbody>\n",
       "    <tr>\n",
       "      <th>0</th>\n",
       "      <td>06065041703</td>\n",
       "      <td>POLYGON ((-13091036.530 4012838.430, -13090979...</td>\n",
       "      <td>1983.0</td>\n",
       "      <td>Census Tract 417.03, Riverside County, California</td>\n",
       "      <td>06</td>\n",
       "      <td>065</td>\n",
       "      <td>041703</td>\n",
       "    </tr>\n",
       "    <tr>\n",
       "      <th>1</th>\n",
       "      <td>06065041704</td>\n",
       "      <td>POLYGON ((-13089368.180 4011805.460, -13089366...</td>\n",
       "      <td>1966.0</td>\n",
       "      <td>Census Tract 417.04, Riverside County, California</td>\n",
       "      <td>06</td>\n",
       "      <td>065</td>\n",
       "      <td>041704</td>\n",
       "    </tr>\n",
       "    <tr>\n",
       "      <th>2</th>\n",
       "      <td>06065041600</td>\n",
       "      <td>POLYGON ((-13088279.590 4012061.140, -13088279...</td>\n",
       "      <td>1963.0</td>\n",
       "      <td>Census Tract 416, Riverside County, California</td>\n",
       "      <td>06</td>\n",
       "      <td>065</td>\n",
       "      <td>041600</td>\n",
       "    </tr>\n",
       "    <tr>\n",
       "      <th>3</th>\n",
       "      <td>06065040812</td>\n",
       "      <td>POLYGON ((-13087011.440 4019470.870, -13087010...</td>\n",
       "      <td>1968.0</td>\n",
       "      <td>Census Tract 408.12, Riverside County, California</td>\n",
       "      <td>06</td>\n",
       "      <td>065</td>\n",
       "      <td>040812</td>\n",
       "    </tr>\n",
       "    <tr>\n",
       "      <th>4</th>\n",
       "      <td>06065040813</td>\n",
       "      <td>POLYGON ((-13087079.460 4014823.100, -13087077...</td>\n",
       "      <td>1993.0</td>\n",
       "      <td>Census Tract 408.13, Riverside County, California</td>\n",
       "      <td>06</td>\n",
       "      <td>065</td>\n",
       "      <td>040813</td>\n",
       "    </tr>\n",
       "  </tbody>\n",
       "</table>\n",
       "</div>"
      ],
      "text/plain": [
       "         GEOID                                           geometry  \\\n",
       "0  06065041703  POLYGON ((-13091036.530 4012838.430, -13090979...   \n",
       "1  06065041704  POLYGON ((-13089368.180 4011805.460, -13089366...   \n",
       "2  06065041600  POLYGON ((-13088279.590 4012061.140, -13088279...   \n",
       "3  06065040812  POLYGON ((-13087011.440 4019470.870, -13087010...   \n",
       "4  06065040813  POLYGON ((-13087079.460 4014823.100, -13087077...   \n",
       "\n",
       "   B25035_001E                                               NAME state  \\\n",
       "0       1983.0  Census Tract 417.03, Riverside County, California    06   \n",
       "1       1966.0  Census Tract 417.04, Riverside County, California    06   \n",
       "2       1963.0     Census Tract 416, Riverside County, California    06   \n",
       "3       1968.0  Census Tract 408.12, Riverside County, California    06   \n",
       "4       1993.0  Census Tract 408.13, Riverside County, California    06   \n",
       "\n",
       "  county   tract  \n",
       "0    065  041703  \n",
       "1    065  041704  \n",
       "2    065  041600  \n",
       "3    065  040812  \n",
       "4    065  040813  "
      ]
     },
     "execution_count": 10,
     "metadata": {},
     "output_type": "execute_result"
    }
   ],
   "source": [
    "riverside.head()"
   ]
  },
  {
   "cell_type": "code",
   "execution_count": 11,
   "id": "32286af7",
   "metadata": {},
   "outputs": [],
   "source": [
    "# let's rename the census column to something more memorable\n",
    "riverside.rename(columns={'B25035_001E':'Median year built'}, inplace=True)"
   ]
  },
  {
   "cell_type": "code",
   "execution_count": 19,
   "id": "0cb0c732",
   "metadata": {},
   "outputs": [
    {
     "data": {
      "image/png": "[encoded data removed]",
      "text/plain": [
       "<Figure size 1440x720 with 2 Axes>"
      ]
     },
     "metadata": {
      "needs_background": "light"
     },
     "output_type": "display_data"
    }
   ],
   "source": [
    "fig, ax = plt.subplots(1,1,figsize=(20,10))\n",
    "riverside.plot('Median year built', ax=ax, cmap='plasma', legend=True, \n",
    "               legend_kwds={'orientation': \"horizontal\"})\n",
    "ax.set_facecolor('k')"
   ]
  },
  {
   "cell_type": "markdown",
   "id": "21074305",
   "metadata": {},
   "source": [
    "### Socrata\n",
    "If you took UP206A, you are probably familiar with the Socrata API. The City of Los Angeles is one user. [You can browse the city's datasets here](https://data.lacity.org).\n",
    "\n",
    "Just like the census, you can call Socrata APIs with `requests`, but there is also a dedicated package.\n",
    "\n",
    "[Look at the housing dataset here](https://data.lacity.org/Housing-and-Real-Estate/HCIDLA-Affordable-Housing-Projects-List-2003-to-Pr/mymu-zi3s). Click on the API button in the top right corner. You can see much useful information:\n",
    "\n",
    "* The URL (the API endpoint)\n",
    "* The format (JSON is the default)\n",
    "* Some helpful links"
   ]
  },
  {
   "cell_type": "code",
   "execution_count": 9,
   "id": "3e94819f",
   "metadata": {},
   "outputs": [],
   "source": [
    "import pandas as pd\n",
    "import requests\n",
    "import json"
   ]
  },
  {
   "cell_type": "code",
   "execution_count": 10,
   "id": "a1847f26",
   "metadata": {},
   "outputs": [
    {
     "data": {
      "text/html": [
       "<div>\n",
       "<style scoped>\n",
       "    .dataframe tbody tr th:only-of-type {\n",
       "        vertical-align: middle;\n",
       "    }\n",
       "\n",
       "    .dataframe tbody tr th {\n",
       "        vertical-align: top;\n",
       "    }\n",
       "\n",
       "    .dataframe thead th {\n",
       "        text-align: right;\n",
       "    }\n",
       "</style>\n",
       "<table border=\"1\" class=\"dataframe\">\n",
       "  <thead>\n",
       "    <tr style=\"text-align: right;\">\n",
       "      <th></th>\n",
       "      <th>apn</th>\n",
       "      <th>project_number</th>\n",
       "      <th>name</th>\n",
       "      <th>development_stage</th>\n",
       "      <th>construction_type</th>\n",
       "      <th>address</th>\n",
       "      <th>council_district</th>\n",
       "      <th>site_cd</th>\n",
       "      <th>community</th>\n",
       "      <th>site_units</th>\n",
       "      <th>...</th>\n",
       "      <th>latitude</th>\n",
       "      <th>geocoded_column</th>\n",
       "      <th>:@computed_region_qz3q_ghft</th>\n",
       "      <th>:@computed_region_k96s_3jcv</th>\n",
       "      <th>:@computed_region_tatf_ua23</th>\n",
       "      <th>:@computed_region_ur2y_g4cx</th>\n",
       "      <th>:@computed_region_kqwf_mjcx</th>\n",
       "      <th>:@computed_region_2dna_qi2s</th>\n",
       "      <th>jobs</th>\n",
       "      <th>contract_numbers</th>\n",
       "    </tr>\n",
       "  </thead>\n",
       "  <tbody>\n",
       "    <tr>\n",
       "      <th>0</th>\n",
       "      <td>5131020009</td>\n",
       "      <td>05-117217</td>\n",
       "      <td>LEXINGTON APARTMENTS A/B (SITE 11)</td>\n",
       "      <td>In-Service</td>\n",
       "      <td>REHAB</td>\n",
       "      <td>1145 E 24TH ST  Los Angeles, CA 90011</td>\n",
       "      <td>9</td>\n",
       "      <td>11</td>\n",
       "      <td>CENTRAL</td>\n",
       "      <td>0</td>\n",
       "      <td>...</td>\n",
       "      <td>34.02133</td>\n",
       "      <td>{'type': 'Point', 'coordinates': [-118.2556100...</td>\n",
       "      <td>22727</td>\n",
       "      <td>705</td>\n",
       "      <td>972</td>\n",
       "      <td>7</td>\n",
       "      <td>13</td>\n",
       "      <td>6</td>\n",
       "      <td>NaN</td>\n",
       "      <td>NaN</td>\n",
       "    </tr>\n",
       "    <tr>\n",
       "      <th>1</th>\n",
       "      <td>6071001013</td>\n",
       "      <td>06-117222</td>\n",
       "      <td>WINDWARD APTS (A/B) (SITE 14)</td>\n",
       "      <td>In-Service</td>\n",
       "      <td>REHAB</td>\n",
       "      <td>636 E 108TH ST 1-4  Los Angeles, CA 90059</td>\n",
       "      <td>8</td>\n",
       "      <td>14</td>\n",
       "      <td>CENTURY PALMS/COVE</td>\n",
       "      <td>8</td>\n",
       "      <td>...</td>\n",
       "      <td>33.93817</td>\n",
       "      <td>{'type': 'Point', 'coordinates': [-118.26374, ...</td>\n",
       "      <td>24354</td>\n",
       "      <td>807</td>\n",
       "      <td>359</td>\n",
       "      <td>7</td>\n",
       "      <td>14</td>\n",
       "      <td>45</td>\n",
       "      <td>NaN</td>\n",
       "      <td>NaN</td>\n",
       "    </tr>\n",
       "    <tr>\n",
       "      <th>2</th>\n",
       "      <td>5544025033</td>\n",
       "      <td>60057</td>\n",
       "      <td>BRICKER</td>\n",
       "      <td>In-Service</td>\n",
       "      <td>ACQUISITION + REHAB</td>\n",
       "      <td>1671 N WESTERN AVE  Los Angeles, CA 90028</td>\n",
       "      <td>13</td>\n",
       "      <td>1</td>\n",
       "      <td>HOLLYWOOD</td>\n",
       "      <td>16</td>\n",
       "      <td>...</td>\n",
       "      <td>34.10127</td>\n",
       "      <td>{'type': 'Point', 'coordinates': [-118.30957, ...</td>\n",
       "      <td>23446</td>\n",
       "      <td>420</td>\n",
       "      <td>608</td>\n",
       "      <td>16</td>\n",
       "      <td>8</td>\n",
       "      <td>57</td>\n",
       "      <td>14</td>\n",
       "      <td>{'url': 'https://hcidapp.lacity.org/citycontra...</td>\n",
       "    </tr>\n",
       "    <tr>\n",
       "      <th>3</th>\n",
       "      <td>5124011008</td>\n",
       "      <td>07-117233</td>\n",
       "      <td>HDR I &amp; II (SITE 4)</td>\n",
       "      <td>In-Service</td>\n",
       "      <td>REHAB</td>\n",
       "      <td>2375 S SCARFF ST  Los Angeles, CA 90007</td>\n",
       "      <td>1</td>\n",
       "      <td>4</td>\n",
       "      <td>UNIVERSITY PARK</td>\n",
       "      <td>20</td>\n",
       "      <td>...</td>\n",
       "      <td>34.03158</td>\n",
       "      <td>{'type': 'Point', 'coordinates': [-118.2810599...</td>\n",
       "      <td>22724</td>\n",
       "      <td>698</td>\n",
       "      <td>444</td>\n",
       "      <td>7</td>\n",
       "      <td>11</td>\n",
       "      <td>32</td>\n",
       "      <td>NaN</td>\n",
       "      <td>NaN</td>\n",
       "    </tr>\n",
       "    <tr>\n",
       "      <th>4</th>\n",
       "      <td>5502020005</td>\n",
       "      <td>80050</td>\n",
       "      <td>ALEXANDRIA HOUSE APTS.</td>\n",
       "      <td>In-Service</td>\n",
       "      <td>REHAB</td>\n",
       "      <td>510 S ALEXANDRIA AVE 1-20  Los Angeles, CA 90020</td>\n",
       "      <td>10</td>\n",
       "      <td>1</td>\n",
       "      <td>KOREATOWN</td>\n",
       "      <td>16</td>\n",
       "      <td>...</td>\n",
       "      <td>34.06506</td>\n",
       "      <td>{'type': 'Point', 'coordinates': [-118.2977500...</td>\n",
       "      <td>23081</td>\n",
       "      <td>598</td>\n",
       "      <td>1316</td>\n",
       "      <td>NaN</td>\n",
       "      <td>12</td>\n",
       "      <td>89</td>\n",
       "      <td>36</td>\n",
       "      <td>{'url': 'https://hcidapp.lacity.org/citycontra...</td>\n",
       "    </tr>\n",
       "    <tr>\n",
       "      <th>...</th>\n",
       "      <td>...</td>\n",
       "      <td>...</td>\n",
       "      <td>...</td>\n",
       "      <td>...</td>\n",
       "      <td>...</td>\n",
       "      <td>...</td>\n",
       "      <td>...</td>\n",
       "      <td>...</td>\n",
       "      <td>...</td>\n",
       "      <td>...</td>\n",
       "      <td>...</td>\n",
       "      <td>...</td>\n",
       "      <td>...</td>\n",
       "      <td>...</td>\n",
       "      <td>...</td>\n",
       "      <td>...</td>\n",
       "      <td>...</td>\n",
       "      <td>...</td>\n",
       "      <td>...</td>\n",
       "      <td>...</td>\n",
       "      <td>...</td>\n",
       "    </tr>\n",
       "    <tr>\n",
       "      <th>500</th>\n",
       "      <td>5082023002</td>\n",
       "      <td>19-125948</td>\n",
       "      <td>AMANI APARTMENTS (FKA PICO)</td>\n",
       "      <td>Development</td>\n",
       "      <td>NEW CONSTRUCTION</td>\n",
       "      <td>4200 W PICO BLVD  Los Angeles, CA 90019</td>\n",
       "      <td>10</td>\n",
       "      <td>1</td>\n",
       "      <td>VICTORIA PARK</td>\n",
       "      <td>54</td>\n",
       "      <td>...</td>\n",
       "      <td>34.04741</td>\n",
       "      <td>{'type': 'Point', 'coordinates': [-118.3271800...</td>\n",
       "      <td>23080</td>\n",
       "      <td>648</td>\n",
       "      <td>1345</td>\n",
       "      <td>NaN</td>\n",
       "      <td>12</td>\n",
       "      <td>69</td>\n",
       "      <td>287</td>\n",
       "      <td>{'url': 'https://hcidapp.lacity.org/citycontra...</td>\n",
       "    </tr>\n",
       "    <tr>\n",
       "      <th>501</th>\n",
       "      <td>4365008904</td>\n",
       "      <td>18-124750</td>\n",
       "      <td>BUILDING 205</td>\n",
       "      <td>Development</td>\n",
       "      <td>ACQUISITION + REHAB</td>\n",
       "      <td>11301 WILSHIRE BLVD  Los Angeles, CA 90073</td>\n",
       "      <td>11</td>\n",
       "      <td>1</td>\n",
       "      <td>NULL</td>\n",
       "      <td>68</td>\n",
       "      <td>...</td>\n",
       "      <td>34.0527</td>\n",
       "      <td>{'type': 'Point', 'coordinates': [-118.4526384...</td>\n",
       "      <td>24036</td>\n",
       "      <td>2119</td>\n",
       "      <td>194</td>\n",
       "      <td>NaN</td>\n",
       "      <td>NaN</td>\n",
       "      <td>NaN</td>\n",
       "      <td>321</td>\n",
       "      <td>{'url': 'https://hcidapp.lacity.org/citycontra...</td>\n",
       "    </tr>\n",
       "    <tr>\n",
       "      <th>502</th>\n",
       "      <td>5501002033</td>\n",
       "      <td>14-121650</td>\n",
       "      <td>PATH METRO VILLAS PHASE I</td>\n",
       "      <td>In-Service</td>\n",
       "      <td>NEW CONSTRUCTION</td>\n",
       "      <td>345 N WESTMORELAND AVE  Los Angeles, CA 90004</td>\n",
       "      <td>13</td>\n",
       "      <td>1</td>\n",
       "      <td>SILVERLAKE</td>\n",
       "      <td>65</td>\n",
       "      <td>...</td>\n",
       "      <td>34.07753</td>\n",
       "      <td>{'type': 'Point', 'coordinates': [-118.28811, ...</td>\n",
       "      <td>22721</td>\n",
       "      <td>455</td>\n",
       "      <td>507</td>\n",
       "      <td>16</td>\n",
       "      <td>8</td>\n",
       "      <td>80</td>\n",
       "      <td>188</td>\n",
       "      <td>{'url': 'https://hcidapp.lacity.org/citycontra...</td>\n",
       "    </tr>\n",
       "    <tr>\n",
       "      <th>503</th>\n",
       "      <td>5019023028</td>\n",
       "      <td>09-117207</td>\n",
       "      <td>STOVALL VILLAS</td>\n",
       "      <td>In-Service</td>\n",
       "      <td>NEW CONSTRUCTION</td>\n",
       "      <td>4057 S FIGUEROA ST  Los Angeles, CA 90037</td>\n",
       "      <td>9</td>\n",
       "      <td>1</td>\n",
       "      <td>WEST VERNON</td>\n",
       "      <td>32</td>\n",
       "      <td>...</td>\n",
       "      <td>34.01039</td>\n",
       "      <td>{'type': 'Point', 'coordinates': [-118.2834099...</td>\n",
       "      <td>23668</td>\n",
       "      <td>735</td>\n",
       "      <td>977</td>\n",
       "      <td>7</td>\n",
       "      <td>13</td>\n",
       "      <td>2</td>\n",
       "      <td>85</td>\n",
       "      <td>{'url': 'https://hcidapp.lacity.org/citycontra...</td>\n",
       "    </tr>\n",
       "    <tr>\n",
       "      <th>504</th>\n",
       "      <td>5153006024</td>\n",
       "      <td>50035</td>\n",
       "      <td>UNION POINT</td>\n",
       "      <td>In-Service</td>\n",
       "      <td>NEW CONSTRUCTION</td>\n",
       "      <td>420 S UNION DR 1-21  Los Angeles, CA 90017</td>\n",
       "      <td>1</td>\n",
       "      <td>1</td>\n",
       "      <td>WESTLAKE</td>\n",
       "      <td>21</td>\n",
       "      <td>...</td>\n",
       "      <td>34.05845</td>\n",
       "      <td>{'type': 'Point', 'coordinates': [-118.2676800...</td>\n",
       "      <td>23078</td>\n",
       "      <td>564</td>\n",
       "      <td>1047</td>\n",
       "      <td>NaN</td>\n",
       "      <td>11</td>\n",
       "      <td>67</td>\n",
       "      <td>40</td>\n",
       "      <td>{'url': 'https://hcidapp.lacity.org/citycontra...</td>\n",
       "    </tr>\n",
       "  </tbody>\n",
       "</table>\n",
       "<p>505 rows × 36 columns</p>\n",
       "</div>"
      ],
      "text/plain": [
       "            apn project_number                                name  \\\n",
       "0    5131020009      05-117217  LEXINGTON APARTMENTS A/B (SITE 11)   \n",
       "1    6071001013      06-117222       WINDWARD APTS (A/B) (SITE 14)   \n",
       "2    5544025033          60057                             BRICKER   \n",
       "3    5124011008      07-117233                 HDR I & II (SITE 4)   \n",
       "4    5502020005          80050              ALEXANDRIA HOUSE APTS.   \n",
       "..          ...            ...                                 ...   \n",
       "500  5082023002      19-125948         AMANI APARTMENTS (FKA PICO)   \n",
       "501  4365008904      18-124750                        BUILDING 205   \n",
       "502  5501002033      14-121650           PATH METRO VILLAS PHASE I   \n",
       "503  5019023028      09-117207                      STOVALL VILLAS   \n",
       "504  5153006024          50035                         UNION POINT   \n",
       "\n",
       "    development_stage    construction_type  \\\n",
       "0          In-Service                REHAB   \n",
       "1          In-Service                REHAB   \n",
       "2          In-Service  ACQUISITION + REHAB   \n",
       "3          In-Service                REHAB   \n",
       "4          In-Service                REHAB   \n",
       "..                ...                  ...   \n",
       "500       Development     NEW CONSTRUCTION   \n",
       "501       Development  ACQUISITION + REHAB   \n",
       "502        In-Service     NEW CONSTRUCTION   \n",
       "503        In-Service     NEW CONSTRUCTION   \n",
       "504        In-Service     NEW CONSTRUCTION   \n",
       "\n",
       "                                              address council_district  \\\n",
       "0               1145 E 24TH ST  Los Angeles, CA 90011                9   \n",
       "1           636 E 108TH ST 1-4  Los Angeles, CA 90059                8   \n",
       "2           1671 N WESTERN AVE  Los Angeles, CA 90028               13   \n",
       "3             2375 S SCARFF ST  Los Angeles, CA 90007                1   \n",
       "4    510 S ALEXANDRIA AVE 1-20  Los Angeles, CA 90020               10   \n",
       "..                                                ...              ...   \n",
       "500           4200 W PICO BLVD  Los Angeles, CA 90019               10   \n",
       "501        11301 WILSHIRE BLVD  Los Angeles, CA 90073               11   \n",
       "502     345 N WESTMORELAND AVE  Los Angeles, CA 90004               13   \n",
       "503         4057 S FIGUEROA ST  Los Angeles, CA 90037                9   \n",
       "504        420 S UNION DR 1-21  Los Angeles, CA 90017                1   \n",
       "\n",
       "    site_cd           community site_units  ...  latitude  \\\n",
       "0        11             CENTRAL          0  ...  34.02133   \n",
       "1        14  CENTURY PALMS/COVE          8  ...  33.93817   \n",
       "2         1           HOLLYWOOD         16  ...  34.10127   \n",
       "3         4     UNIVERSITY PARK         20  ...  34.03158   \n",
       "4         1           KOREATOWN         16  ...  34.06506   \n",
       "..      ...                 ...        ...  ...       ...   \n",
       "500       1       VICTORIA PARK         54  ...  34.04741   \n",
       "501       1                NULL         68  ...   34.0527   \n",
       "502       1          SILVERLAKE         65  ...  34.07753   \n",
       "503       1         WEST VERNON         32  ...  34.01039   \n",
       "504       1            WESTLAKE         21  ...  34.05845   \n",
       "\n",
       "                                       geocoded_column  \\\n",
       "0    {'type': 'Point', 'coordinates': [-118.2556100...   \n",
       "1    {'type': 'Point', 'coordinates': [-118.26374, ...   \n",
       "2    {'type': 'Point', 'coordinates': [-118.30957, ...   \n",
       "3    {'type': 'Point', 'coordinates': [-118.2810599...   \n",
       "4    {'type': 'Point', 'coordinates': [-118.2977500...   \n",
       "..                                                 ...   \n",
       "500  {'type': 'Point', 'coordinates': [-118.3271800...   \n",
       "501  {'type': 'Point', 'coordinates': [-118.4526384...   \n",
       "502  {'type': 'Point', 'coordinates': [-118.28811, ...   \n",
       "503  {'type': 'Point', 'coordinates': [-118.2834099...   \n",
       "504  {'type': 'Point', 'coordinates': [-118.2676800...   \n",
       "\n",
       "    :@computed_region_qz3q_ghft :@computed_region_k96s_3jcv  \\\n",
       "0                         22727                         705   \n",
       "1                         24354                         807   \n",
       "2                         23446                         420   \n",
       "3                         22724                         698   \n",
       "4                         23081                         598   \n",
       "..                          ...                         ...   \n",
       "500                       23080                         648   \n",
       "501                       24036                        2119   \n",
       "502                       22721                         455   \n",
       "503                       23668                         735   \n",
       "504                       23078                         564   \n",
       "\n",
       "    :@computed_region_tatf_ua23 :@computed_region_ur2y_g4cx  \\\n",
       "0                           972                           7   \n",
       "1                           359                           7   \n",
       "2                           608                          16   \n",
       "3                           444                           7   \n",
       "4                          1316                         NaN   \n",
       "..                          ...                         ...   \n",
       "500                        1345                         NaN   \n",
       "501                         194                         NaN   \n",
       "502                         507                          16   \n",
       "503                         977                           7   \n",
       "504                        1047                         NaN   \n",
       "\n",
       "    :@computed_region_kqwf_mjcx :@computed_region_2dna_qi2s jobs  \\\n",
       "0                            13                           6  NaN   \n",
       "1                            14                          45  NaN   \n",
       "2                             8                          57   14   \n",
       "3                            11                          32  NaN   \n",
       "4                            12                          89   36   \n",
       "..                          ...                         ...  ...   \n",
       "500                          12                          69  287   \n",
       "501                         NaN                         NaN  321   \n",
       "502                           8                          80  188   \n",
       "503                          13                           2   85   \n",
       "504                          11                          67   40   \n",
       "\n",
       "                                      contract_numbers  \n",
       "0                                                  NaN  \n",
       "1                                                  NaN  \n",
       "2    {'url': 'https://hcidapp.lacity.org/citycontra...  \n",
       "3                                                  NaN  \n",
       "4    {'url': 'https://hcidapp.lacity.org/citycontra...  \n",
       "..                                                 ...  \n",
       "500  {'url': 'https://hcidapp.lacity.org/citycontra...  \n",
       "501  {'url': 'https://hcidapp.lacity.org/citycontra...  \n",
       "502  {'url': 'https://hcidapp.lacity.org/citycontra...  \n",
       "503  {'url': 'https://hcidapp.lacity.org/citycontra...  \n",
       "504  {'url': 'https://hcidapp.lacity.org/citycontra...  \n",
       "\n",
       "[505 rows x 36 columns]"
      ]
     },
     "execution_count": 10,
     "metadata": {},
     "output_type": "execute_result"
    }
   ],
   "source": [
    "url = 'https://data.lacity.org/resource/mymu-zi3s.json'\n",
    "r = requests.get(url)\n",
    "df = pd.DataFrame(json.loads(r.text))\n",
    "df"
   ]
  },
  {
   "cell_type": "markdown",
   "id": "3a650b62",
   "metadata": {},
   "source": [
    "We might have expected some geographic coordinates, and it looks like they are in the `geocoded_column` column.\n",
    "\n",
    "But we converted it to a regular `pandas` DataFrame, which doesn't understand spatial relationships.\n",
    "\n",
    "Let's try and put this in `geopandas`. Note that the complication arises because `geopandas` doesn't understand the format directly. We need to use the `shapely` library to convert the geometry column to a shapely shape. "
   ]
  },
  {
   "cell_type": "code",
   "execution_count": 11,
   "id": "dba37fe4",
   "metadata": {},
   "outputs": [
    {
     "data": {
      "image/svg+xml": [
       "<svg xmlns=\"http://www.w3.org/2000/svg\" xmlns:xlink=\"http://www.w3.org/1999/xlink\" width=\"100.0\" height=\"100.0\" viewBox=\"-119.25561000000002 33.02133 2.0 2.0\" preserveAspectRatio=\"xMinYMin meet\"><g transform=\"matrix(1,0,0,-1,0,68.04266)\"><circle cx=\"-118.25561000000002\" cy=\"34.02133\" r=\"0.06\" stroke=\"#555555\" stroke-width=\"0.02\" fill=\"#66cc99\" opacity=\"0.6\" /></g></svg>"
      ],
      "text/plain": [
       "<shapely.geometry.point.Point at 0x26fbdd84f70>"
      ]
     },
     "execution_count": 11,
     "metadata": {},
     "output_type": "execute_result"
    }
   ],
   "source": [
    "import geopandas as gpd\n",
    "from shapely.geometry import shape\n",
    "\n",
    "# let's look at one of the geometries and see if we can convert it\n",
    "geom = df.loc[0,'geocoded_column']\n",
    "shape(geom)"
   ]
  },
  {
   "cell_type": "code",
   "execution_count": 18,
   "id": "5886b6e8",
   "metadata": {},
   "outputs": [
    {
     "data": {
      "text/plain": [
       "<AxesSubplot:>"
      ]
     },
     "execution_count": 18,
     "metadata": {},
     "output_type": "execute_result"
    },
    {
     "data": {
      "image/png": "[encoded data removed]",
      "text/plain": [
       "<Figure size 432x288 with 1 Axes>"
      ]
     },
     "metadata": {
      "needs_background": "light"
     },
     "output_type": "display_data"
    }
   ],
   "source": [
    "# Seems OK! Now let's use .apply to apply the shape function to that entire column, and put the results in a new column\n",
    "\n",
    "df = gpd.GeoDataFrame(json.loads(r.text))\n",
    "df['geom'] = df.geocoded_column.apply(shape) \n",
    "# now set that new column as our geometry. 4326 is the code for lat/long (i.e., unprojected data)\n",
    "df.set_geometry('geom', crs=4326, inplace=True)  \n",
    "df.plot()"
   ]
  },
  {
   "cell_type": "markdown",
   "id": "56f9692e",
   "metadata": {},
   "source": [
    "Before we clean up the map, let's mention two others way to read that data in–using the Socrata API.\n",
    "\n",
    "#### Sodapy\n",
    "\n",
    "[That uses the `sodapy` library](https://pypi.org/project/sodapy/), which unfortunately isn't available in Anaconda. So we won't cover it here, but I bring it up because you may be familiar with it from UP206A.\n",
    "\n",
    "If you want to use Socrata, you'll need to go to your command line (Terminal on the Mac or Command Prompt on Windows) and type:\n",
    "\n",
    "`pip install sodapy`\n",
    "\n",
    "`pip` is the standard Python package manager\n",
    "\n",
    "#### Save to disk\n",
    "You can always download the file to your computer, and load it in.\n",
    "\n",
    "Socrata gives you [various options for the format for this file](https://data.lacity.org/Housing-and-Real-Estate/HCIDLA-Affordable-Housing-Projects-List-2003-to-Pr/mymu-zi3s): `csv`, `shp`, and so on. Let's use the shapefile version."
   ]
  },
  {
   "cell_type": "code",
   "execution_count": 17,
   "id": "7aeaaa02",
   "metadata": {},
   "outputs": [
    {
     "ename": "DriverError",
     "evalue": "'/Users/adammb/Desktop/HCIDLA Affordable Housing Projects List (2003 to Present)' does not exist in the file system, and is not recognized as a supported dataset name.",
     "output_type": "error",
     "traceback": [
      "\u001b[1;31m---------------------------------------------------------------------------\u001b[0m",
      "\u001b[1;31mCPLE_OpenFailedError\u001b[0m                      Traceback (most recent call last)",
      "\u001b[1;32mfiona/_shim.pyx\u001b[0m in \u001b[0;36mfiona._shim.gdal_open_vector\u001b[1;34m()\u001b[0m\n",
      "\u001b[1;32mfiona/_err.pyx\u001b[0m in \u001b[0;36mfiona._err.exc_wrap_pointer\u001b[1;34m()\u001b[0m\n",
      "\u001b[1;31mCPLE_OpenFailedError\u001b[0m: '/Users/adammb/Desktop/HCIDLA Affordable Housing Projects List (2003 to Present)' does not exist in the file system, and is not recognized as a supported dataset name.",
      "\nDuring handling of the above exception, another exception occurred:\n",
      "\u001b[1;31mDriverError\u001b[0m                               Traceback (most recent call last)",
      "\u001b[1;32m<ipython-input-17-5107684edacc>\u001b[0m in \u001b[0;36m<module>\u001b[1;34m\u001b[0m\n\u001b[1;32m----> 1\u001b[1;33m \u001b[0mgpd\u001b[0m\u001b[1;33m.\u001b[0m\u001b[0mread_file\u001b[0m\u001b[1;33m(\u001b[0m\u001b[1;34m'/Users/adammb/Desktop/HCIDLA Affordable Housing Projects List (2003 to Present)'\u001b[0m\u001b[1;33m)\u001b[0m\u001b[1;33m\u001b[0m\u001b[1;33m\u001b[0m\u001b[0m\n\u001b[0m",
      "\u001b[1;32m~\\anaconda3\\envs\\urbandatascience\\lib\\site-packages\\geopandas\\io\\file.py\u001b[0m in \u001b[0;36m_read_file\u001b[1;34m(filename, bbox, mask, rows, **kwargs)\u001b[0m\n\u001b[0;32m     94\u001b[0m \u001b[1;33m\u001b[0m\u001b[0m\n\u001b[0;32m     95\u001b[0m     \u001b[1;32mwith\u001b[0m \u001b[0mfiona_env\u001b[0m\u001b[1;33m(\u001b[0m\u001b[1;33m)\u001b[0m\u001b[1;33m:\u001b[0m\u001b[1;33m\u001b[0m\u001b[1;33m\u001b[0m\u001b[0m\n\u001b[1;32m---> 96\u001b[1;33m         \u001b[1;32mwith\u001b[0m \u001b[0mreader\u001b[0m\u001b[1;33m(\u001b[0m\u001b[0mpath_or_bytes\u001b[0m\u001b[1;33m,\u001b[0m \u001b[1;33m**\u001b[0m\u001b[0mkwargs\u001b[0m\u001b[1;33m)\u001b[0m \u001b[1;32mas\u001b[0m \u001b[0mfeatures\u001b[0m\u001b[1;33m:\u001b[0m\u001b[1;33m\u001b[0m\u001b[1;33m\u001b[0m\u001b[0m\n\u001b[0m\u001b[0;32m     97\u001b[0m \u001b[1;33m\u001b[0m\u001b[0m\n\u001b[0;32m     98\u001b[0m             \u001b[1;31m# In a future Fiona release the crs attribute of features will\u001b[0m\u001b[1;33m\u001b[0m\u001b[1;33m\u001b[0m\u001b[1;33m\u001b[0m\u001b[0m\n",
      "\u001b[1;32m~\\anaconda3\\envs\\urbandatascience\\lib\\site-packages\\fiona\\env.py\u001b[0m in \u001b[0;36mwrapper\u001b[1;34m(*args, **kwargs)\u001b[0m\n\u001b[0;32m    396\u001b[0m     \u001b[1;32mdef\u001b[0m \u001b[0mwrapper\u001b[0m\u001b[1;33m(\u001b[0m\u001b[1;33m*\u001b[0m\u001b[0margs\u001b[0m\u001b[1;33m,\u001b[0m \u001b[1;33m**\u001b[0m\u001b[0mkwargs\u001b[0m\u001b[1;33m)\u001b[0m\u001b[1;33m:\u001b[0m\u001b[1;33m\u001b[0m\u001b[1;33m\u001b[0m\u001b[0m\n\u001b[0;32m    397\u001b[0m         \u001b[1;32mif\u001b[0m \u001b[0mlocal\u001b[0m\u001b[1;33m.\u001b[0m\u001b[0m_env\u001b[0m\u001b[1;33m:\u001b[0m\u001b[1;33m\u001b[0m\u001b[1;33m\u001b[0m\u001b[0m\n\u001b[1;32m--> 398\u001b[1;33m             \u001b[1;32mreturn\u001b[0m \u001b[0mf\u001b[0m\u001b[1;33m(\u001b[0m\u001b[1;33m*\u001b[0m\u001b[0margs\u001b[0m\u001b[1;33m,\u001b[0m \u001b[1;33m**\u001b[0m\u001b[0mkwargs\u001b[0m\u001b[1;33m)\u001b[0m\u001b[1;33m\u001b[0m\u001b[1;33m\u001b[0m\u001b[0m\n\u001b[0m\u001b[0;32m    399\u001b[0m         \u001b[1;32melse\u001b[0m\u001b[1;33m:\u001b[0m\u001b[1;33m\u001b[0m\u001b[1;33m\u001b[0m\u001b[0m\n\u001b[0;32m    400\u001b[0m             \u001b[1;32mif\u001b[0m \u001b[0misinstance\u001b[0m\u001b[1;33m(\u001b[0m\u001b[0margs\u001b[0m\u001b[1;33m[\u001b[0m\u001b[1;36m0\u001b[0m\u001b[1;33m]\u001b[0m\u001b[1;33m,\u001b[0m \u001b[0mstr\u001b[0m\u001b[1;33m)\u001b[0m\u001b[1;33m:\u001b[0m\u001b[1;33m\u001b[0m\u001b[1;33m\u001b[0m\u001b[0m\n",
      "\u001b[1;32m~\\anaconda3\\envs\\urbandatascience\\lib\\site-packages\\fiona\\__init__.py\u001b[0m in \u001b[0;36mopen\u001b[1;34m(fp, mode, driver, schema, crs, encoding, layer, vfs, enabled_drivers, crs_wkt, **kwargs)\u001b[0m\n\u001b[0;32m    251\u001b[0m \u001b[1;33m\u001b[0m\u001b[0m\n\u001b[0;32m    252\u001b[0m         \u001b[1;32mif\u001b[0m \u001b[0mmode\u001b[0m \u001b[1;32min\u001b[0m \u001b[1;33m(\u001b[0m\u001b[1;34m'a'\u001b[0m\u001b[1;33m,\u001b[0m \u001b[1;34m'r'\u001b[0m\u001b[1;33m)\u001b[0m\u001b[1;33m:\u001b[0m\u001b[1;33m\u001b[0m\u001b[1;33m\u001b[0m\u001b[0m\n\u001b[1;32m--> 253\u001b[1;33m             c = Collection(path, mode, driver=driver, encoding=encoding,\n\u001b[0m\u001b[0;32m    254\u001b[0m                            layer=layer, enabled_drivers=enabled_drivers, **kwargs)\n\u001b[0;32m    255\u001b[0m         \u001b[1;32melif\u001b[0m \u001b[0mmode\u001b[0m \u001b[1;33m==\u001b[0m \u001b[1;34m'w'\u001b[0m\u001b[1;33m:\u001b[0m\u001b[1;33m\u001b[0m\u001b[1;33m\u001b[0m\u001b[0m\n",
      "\u001b[1;32m~\\anaconda3\\envs\\urbandatascience\\lib\\site-packages\\fiona\\collection.py\u001b[0m in \u001b[0;36m__init__\u001b[1;34m(self, path, mode, driver, schema, crs, encoding, layer, vsi, archive, enabled_drivers, crs_wkt, ignore_fields, ignore_geometry, **kwargs)\u001b[0m\n\u001b[0;32m    152\u001b[0m             \u001b[1;32mif\u001b[0m \u001b[0mself\u001b[0m\u001b[1;33m.\u001b[0m\u001b[0mmode\u001b[0m \u001b[1;33m==\u001b[0m \u001b[1;34m'r'\u001b[0m\u001b[1;33m:\u001b[0m\u001b[1;33m\u001b[0m\u001b[1;33m\u001b[0m\u001b[0m\n\u001b[0;32m    153\u001b[0m                 \u001b[0mself\u001b[0m\u001b[1;33m.\u001b[0m\u001b[0msession\u001b[0m \u001b[1;33m=\u001b[0m \u001b[0mSession\u001b[0m\u001b[1;33m(\u001b[0m\u001b[1;33m)\u001b[0m\u001b[1;33m\u001b[0m\u001b[1;33m\u001b[0m\u001b[0m\n\u001b[1;32m--> 154\u001b[1;33m                 \u001b[0mself\u001b[0m\u001b[1;33m.\u001b[0m\u001b[0msession\u001b[0m\u001b[1;33m.\u001b[0m\u001b[0mstart\u001b[0m\u001b[1;33m(\u001b[0m\u001b[0mself\u001b[0m\u001b[1;33m,\u001b[0m \u001b[1;33m**\u001b[0m\u001b[0mkwargs\u001b[0m\u001b[1;33m)\u001b[0m\u001b[1;33m\u001b[0m\u001b[1;33m\u001b[0m\u001b[0m\n\u001b[0m\u001b[0;32m    155\u001b[0m             \u001b[1;32melif\u001b[0m \u001b[0mself\u001b[0m\u001b[1;33m.\u001b[0m\u001b[0mmode\u001b[0m \u001b[1;32min\u001b[0m \u001b[1;33m(\u001b[0m\u001b[1;34m'a'\u001b[0m\u001b[1;33m,\u001b[0m \u001b[1;34m'w'\u001b[0m\u001b[1;33m)\u001b[0m\u001b[1;33m:\u001b[0m\u001b[1;33m\u001b[0m\u001b[1;33m\u001b[0m\u001b[0m\n\u001b[0;32m    156\u001b[0m                 \u001b[0mself\u001b[0m\u001b[1;33m.\u001b[0m\u001b[0msession\u001b[0m \u001b[1;33m=\u001b[0m \u001b[0mWritingSession\u001b[0m\u001b[1;33m(\u001b[0m\u001b[1;33m)\u001b[0m\u001b[1;33m\u001b[0m\u001b[1;33m\u001b[0m\u001b[0m\n",
      "\u001b[1;32mfiona/ogrext.pyx\u001b[0m in \u001b[0;36mfiona.ogrext.Session.start\u001b[1;34m()\u001b[0m\n",
      "\u001b[1;32mfiona/_shim.pyx\u001b[0m in \u001b[0;36mfiona._shim.gdal_open_vector\u001b[1;34m()\u001b[0m\n",
      "\u001b[1;31mDriverError\u001b[0m: '/Users/adammb/Desktop/HCIDLA Affordable Housing Projects List (2003 to Present)' does not exist in the file system, and is not recognized as a supported dataset name."
     ]
    }
   ],
   "source": [
    "gpd.read_file('/Users/adammb/Desktop/HCIDLA Affordable Housing Projects List (2003 to Present)')"
   ]
  },
  {
   "cell_type": "markdown",
   "id": "68b947c2",
   "metadata": {},
   "source": [
    "Now let's clean up the map. First, note that we can call `df.plot()` directly, but we have more flexibility if we create our own figure and axis object and then pass that to the plot function. Normally, you create them both together using `plt.subplots()`.\n",
    "\n",
    "Let's also plot a particular column, perhaps `site_units`, as a proportional circle."
   ]
  },
  {
   "cell_type": "code",
   "execution_count": 16,
   "id": "ec4b938a",
   "metadata": {},
   "outputs": [
    {
     "ename": "ModuleNotFoundError",
     "evalue": "No module named 'contextily'",
     "output_type": "error",
     "traceback": [
      "\u001b[1;31m---------------------------------------------------------------------------\u001b[0m",
      "\u001b[1;31mModuleNotFoundError\u001b[0m                       Traceback (most recent call last)",
      "\u001b[1;32m<ipython-input-16-4527060f2451>\u001b[0m in \u001b[0;36m<module>\u001b[1;34m\u001b[0m\n\u001b[0;32m      1\u001b[0m \u001b[1;32mimport\u001b[0m \u001b[0mmatplotlib\u001b[0m\u001b[1;33m.\u001b[0m\u001b[0mpyplot\u001b[0m \u001b[1;32mas\u001b[0m \u001b[0mplt\u001b[0m\u001b[1;33m\u001b[0m\u001b[1;33m\u001b[0m\u001b[0m\n\u001b[1;32m----> 2\u001b[1;33m \u001b[1;32mimport\u001b[0m \u001b[0mcontextily\u001b[0m \u001b[1;32mas\u001b[0m \u001b[0mctx\u001b[0m\u001b[1;33m\u001b[0m\u001b[1;33m\u001b[0m\u001b[0m\n\u001b[0m\u001b[0;32m      3\u001b[0m \u001b[1;31m# If we try to plot site_units, we get an error due to the zero-unit entries. Let's solve that first.\u001b[0m\u001b[1;33m\u001b[0m\u001b[1;33m\u001b[0m\u001b[1;33m\u001b[0m\u001b[0m\n\u001b[0;32m      4\u001b[0m \u001b[0mdf\u001b[0m\u001b[1;33m[\u001b[0m\u001b[1;34m'site_units'\u001b[0m\u001b[1;33m]\u001b[0m \u001b[1;33m=\u001b[0m \u001b[0mdf\u001b[0m\u001b[1;33m.\u001b[0m\u001b[0msite_units\u001b[0m\u001b[1;33m.\u001b[0m\u001b[0mastype\u001b[0m\u001b[1;33m(\u001b[0m\u001b[0mint\u001b[0m\u001b[1;33m)\u001b[0m  \u001b[1;31m# convert to integer\u001b[0m\u001b[1;33m\u001b[0m\u001b[1;33m\u001b[0m\u001b[0m\n\u001b[0;32m      5\u001b[0m \u001b[1;33m\u001b[0m\u001b[0m\n",
      "\u001b[1;31mModuleNotFoundError\u001b[0m: No module named 'contextily'"
     ]
    }
   ],
   "source": [
    "import matplotlib.pyplot as plt\n",
    "import contextily as ctx\n",
    "# If we try to plot site_units, we get an error due to the zero-unit entries. Let's solve that first.\n",
    "df['site_units'] = df.site_units.astype(int)  # convert to integer\n",
    "\n",
    "fig, ax = plt.subplots(figsize=(20,20))\n",
    "\n",
    "# basemaps are typically in Web Mercator (projection 3857), so we need to reproject our dataframe to this\n",
    "df[df.site_units>0].to_crs('EPSG:3857').plot(markersize='site_units', ax=ax)\n",
    "\n",
    "# let's add a basemap using the contextily library\n",
    "ctx.add_basemap(ax, zoom=12)\n",
    "\n",
    "# and we really don't need the axis ticks and labels, so we set them to an empty list\n",
    "ax.set_xticks([])\n",
    "ax.set_yticks([])"
   ]
  },
  {
   "cell_type": "markdown",
   "id": "e097d24e",
   "metadata": {},
   "source": [
    "<div class=\"alert alert-block alert-info\">\n",
    "<h3>Key Takeaways</h3>\n",
    "<ul>\n",
    "  <li>Many APIs are just URLs. You can compose the URL as a string.</li>\n",
    "  <li>JSON is the typical format of the returned data, but you will often need to experiment.</li>\n",
    "  <li>Be nice! Some APIs will ask you to register. Most will kick you off if you make too many requests.</li>\n",
    "  <li>Some popular APIs have dedicated packages to make the process simpler.</li>\n",
    "</ul>\n",
    "</div>"
   ]
  }
 ],
 "metadata": {
  "kernelspec": {
   "display_name": "Python 3",
   "language": "python",
   "name": "python3"
  },
  "language_info": {
   "codemirror_mode": {
    "name": "ipython",
    "version": 3
   },
   "file_extension": ".py",
   "mimetype": "text/x-python",
   "name": "python",
   "nbconvert_exporter": "python",
   "pygments_lexer": "ipython3",
   "version": "3.8.8"
  }
 },
 "nbformat": 4,
 "nbformat_minor": 5
}
